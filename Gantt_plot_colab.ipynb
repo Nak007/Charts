{
 "cells": [
  {
   "cell_type": "markdown",
   "id": "6760159c",
   "metadata": {},
   "source": [
    "### Google.colab\n",
    "Only execute this cell when use on google colab platform (colab)."
   ]
  },
  {
   "cell_type": "markdown",
   "id": "a05fc0e6",
   "metadata": {},
   "source": [
    "<table class=\"tfo-notebook-buttons\" align=\"left\">\n",
    "  <td>\n",
    "    <a target=\"_blank\" href=\"http://github.com/Nak007/charts\"><img src=\"https://www.tensorflow.org/images/GitHub-Mark-32px.png\" />View source on GitHub</a>\n",
    "  </td>\n",
    "</table>"
   ]
  },
  {
   "cell_type": "code",
   "execution_count": null,
   "id": "3fb21e13",
   "metadata": {},
   "outputs": [],
   "source": [
    "# Mount with google drive.\n",
    "from google.colab import drive\n",
    "drive.mount('/content/dirve')\n",
    "\n",
    "# Import other libraries required.\n",
    "# All *.py will be stored under the following \n",
    "# location i.e. '/content/charts'.\n",
    "!git clone 'http://github.com/Nak007/charts.git'"
   ]
  },
  {
   "cell_type": "code",
   "execution_count": 1,
   "id": "b9011d80",
   "metadata": {},
   "outputs": [],
   "source": [
    "# Import libraries.\n",
    "import pandas as pd, numpy as np\n",
    "from pandas import Timestamp\n",
    "from ipywidgets import interact, fixed\n",
    "from Gantt_plot import *\n",
    "\n",
    "pd.options.display.float_format = '{:,.3f}'.format"
   ]
  },
  {
   "cell_type": "markdown",
   "id": "19e32e19",
   "metadata": {},
   "source": [
    "## Examples"
   ]
  },
  {
   "cell_type": "code",
   "execution_count": 2,
   "id": "6e715c8f",
   "metadata": {},
   "outputs": [
    {
     "data": {
      "text/html": [
       "<div>\n",
       "<style scoped>\n",
       "    .dataframe tbody tr th:only-of-type {\n",
       "        vertical-align: middle;\n",
       "    }\n",
       "\n",
       "    .dataframe tbody tr th {\n",
       "        vertical-align: top;\n",
       "    }\n",
       "\n",
       "    .dataframe thead th {\n",
       "        text-align: right;\n",
       "    }\n",
       "</style>\n",
       "<table border=\"1\" class=\"dataframe\">\n",
       "  <thead>\n",
       "    <tr style=\"text-align: right;\">\n",
       "      <th></th>\n",
       "      <th>type</th>\n",
       "      <th>task</th>\n",
       "      <th>description</th>\n",
       "      <th>deliverables</th>\n",
       "      <th>completion</th>\n",
       "      <th>start</th>\n",
       "      <th>end</th>\n",
       "      <th>member1</th>\n",
       "      <th>member2</th>\n",
       "      <th>member3</th>\n",
       "    </tr>\n",
       "  </thead>\n",
       "  <tbody>\n",
       "    <tr>\n",
       "      <th>12</th>\n",
       "      <td>Project</td>\n",
       "      <td>Task B</td>\n",
       "      <td>aaa</td>\n",
       "      <td>bbb</td>\n",
       "      <td>1.000</td>\n",
       "      <td>2022-02-18</td>\n",
       "      <td>2022-02-23</td>\n",
       "      <td>0</td>\n",
       "      <td>0</td>\n",
       "      <td>1</td>\n",
       "    </tr>\n",
       "    <tr>\n",
       "      <th>8</th>\n",
       "      <td>Project</td>\n",
       "      <td>Task F</td>\n",
       "      <td>aaa</td>\n",
       "      <td>bbb</td>\n",
       "      <td>1.000</td>\n",
       "      <td>2022-02-25</td>\n",
       "      <td>2022-03-01</td>\n",
       "      <td>0</td>\n",
       "      <td>1</td>\n",
       "      <td>1</td>\n",
       "    </tr>\n",
       "    <tr>\n",
       "      <th>10</th>\n",
       "      <td>Project</td>\n",
       "      <td>Task D</td>\n",
       "      <td>aaa</td>\n",
       "      <td>bbb</td>\n",
       "      <td>1.000</td>\n",
       "      <td>2022-02-22</td>\n",
       "      <td>2022-03-01</td>\n",
       "      <td>1</td>\n",
       "      <td>1</td>\n",
       "      <td>0</td>\n",
       "    </tr>\n",
       "    <tr>\n",
       "      <th>3</th>\n",
       "      <td>Project</td>\n",
       "      <td>Task K</td>\n",
       "      <td>aaa</td>\n",
       "      <td>bbb</td>\n",
       "      <td>0.000</td>\n",
       "      <td>2022-03-09</td>\n",
       "      <td>2022-03-15</td>\n",
       "      <td>1</td>\n",
       "      <td>0</td>\n",
       "      <td>0</td>\n",
       "    </tr>\n",
       "    <tr>\n",
       "      <th>13</th>\n",
       "      <td>Project</td>\n",
       "      <td>Task A</td>\n",
       "      <td>aaa</td>\n",
       "      <td>bbb</td>\n",
       "      <td>1.000</td>\n",
       "      <td>2022-02-15</td>\n",
       "      <td>2022-02-19</td>\n",
       "      <td>1</td>\n",
       "      <td>0</td>\n",
       "      <td>1</td>\n",
       "    </tr>\n",
       "  </tbody>\n",
       "</table>\n",
       "</div>"
      ],
      "text/plain": [
       "       type    task description deliverables  completion      start  \\\n",
       "12  Project  Task B         aaa          bbb       1.000 2022-02-18   \n",
       "8   Project  Task F         aaa          bbb       1.000 2022-02-25   \n",
       "10  Project  Task D         aaa          bbb       1.000 2022-02-22   \n",
       "3   Project  Task K         aaa          bbb       0.000 2022-03-09   \n",
       "13  Project  Task A         aaa          bbb       1.000 2022-02-15   \n",
       "\n",
       "          end  member1  member2  member3  \n",
       "12 2022-02-23        0        0        1  \n",
       "8  2022-03-01        0        1        1  \n",
       "10 2022-03-01        1        1        0  \n",
       "3  2022-03-15        1        0        0  \n",
       "13 2022-02-19        1        0        1  "
      ]
     },
     "execution_count": 2,
     "metadata": {},
     "output_type": "execute_result"
    }
   ],
   "source": [
    "df = pd.read_excel('work_schedule.xlsm', sheet_name=\"Schedule\").drop(columns=[\"start_date\",\"days\"])\n",
    "df[[\"start\", \"end\"]] = df[[\"start\", \"end\"]].apply(pd.to_datetime)\n",
    "df.sample(5)"
   ]
  },
  {
   "cell_type": "code",
   "execution_count": 3,
   "id": "0e78f7de",
   "metadata": {},
   "outputs": [
    {
     "name": "stdout",
     "output_type": "stream",
     "text": [
      "<class 'pandas.core.frame.DataFrame'>\n",
      "RangeIndex: 16 entries, 0 to 15\n",
      "Data columns (total 10 columns):\n",
      " #   Column        Non-Null Count  Dtype         \n",
      "---  ------        --------------  -----         \n",
      " 0   type          16 non-null     object        \n",
      " 1   task          16 non-null     object        \n",
      " 2   description   16 non-null     object        \n",
      " 3   deliverables  16 non-null     object        \n",
      " 4   completion    16 non-null     float64       \n",
      " 5   start         16 non-null     datetime64[ns]\n",
      " 6   end           16 non-null     datetime64[ns]\n",
      " 7   member1       16 non-null     int64         \n",
      " 8   member2       16 non-null     int64         \n",
      " 9   member3       16 non-null     int64         \n",
      "dtypes: datetime64[ns](2), float64(1), int64(3), object(4)\n",
      "memory usage: 1.4+ KB\n"
     ]
    }
   ],
   "source": [
    "df.info()"
   ]
  },
  {
   "cell_type": "code",
   "execution_count": 4,
   "id": "5ba0031e",
   "metadata": {},
   "outputs": [],
   "source": [
    "ref_date = Timestamp(2022,3,1)"
   ]
  },
  {
   "cell_type": "code",
   "execution_count": 5,
   "id": "a54b8620",
   "metadata": {},
   "outputs": [],
   "source": [
    "holidays = pd.read_excel('work_schedule.xlsm', sheet_name=\"PublicHolidays\").drop(columns=[\"Holiday\"])\n",
    "holidays = np.array(holidays, dtype=\"datetime64[D]\").ravel()"
   ]
  },
  {
   "cell_type": "code",
   "execution_count": 6,
   "id": "6cce329a",
   "metadata": {},
   "outputs": [
    {
     "data": {
      "text/html": [
       "<div>\n",
       "<style scoped>\n",
       "    .dataframe tbody tr th:only-of-type {\n",
       "        vertical-align: middle;\n",
       "    }\n",
       "\n",
       "    .dataframe tbody tr th {\n",
       "        vertical-align: top;\n",
       "    }\n",
       "\n",
       "    .dataframe thead th {\n",
       "        text-align: right;\n",
       "    }\n",
       "</style>\n",
       "<table border=\"1\" class=\"dataframe\">\n",
       "  <thead>\n",
       "    <tr style=\"text-align: right;\">\n",
       "      <th></th>\n",
       "      <th>type</th>\n",
       "      <th>task</th>\n",
       "      <th>description</th>\n",
       "      <th>deliverables</th>\n",
       "      <th>completion</th>\n",
       "      <th>start</th>\n",
       "      <th>end</th>\n",
       "      <th>member1</th>\n",
       "      <th>member2</th>\n",
       "      <th>member3</th>\n",
       "      <th>start_num</th>\n",
       "      <th>end_num</th>\n",
       "      <th>duration</th>\n",
       "      <th>prog_day</th>\n",
       "      <th>exp_day</th>\n",
       "      <th>plan</th>\n",
       "      <th>diff_pct</th>\n",
       "      <th>diff_day</th>\n",
       "      <th>status</th>\n",
       "    </tr>\n",
       "  </thead>\n",
       "  <tbody>\n",
       "    <tr>\n",
       "      <th>0</th>\n",
       "      <td>Project</td>\n",
       "      <td>Task M</td>\n",
       "      <td>aaa</td>\n",
       "      <td>bbb</td>\n",
       "      <td>0.000</td>\n",
       "      <td>2022-03-17</td>\n",
       "      <td>2022-03-19</td>\n",
       "      <td>0</td>\n",
       "      <td>0</td>\n",
       "      <td>1</td>\n",
       "      <td>30</td>\n",
       "      <td>32</td>\n",
       "      <td>2</td>\n",
       "      <td>0.000</td>\n",
       "      <td>0</td>\n",
       "      <td>0.000</td>\n",
       "      <td>0.000</td>\n",
       "      <td>0.000</td>\n",
       "      <td>on-time</td>\n",
       "    </tr>\n",
       "    <tr>\n",
       "      <th>1</th>\n",
       "      <td>Project</td>\n",
       "      <td>Task N</td>\n",
       "      <td>aaa</td>\n",
       "      <td>bbb</td>\n",
       "      <td>0.000</td>\n",
       "      <td>2022-03-16</td>\n",
       "      <td>2022-03-19</td>\n",
       "      <td>1</td>\n",
       "      <td>1</td>\n",
       "      <td>1</td>\n",
       "      <td>29</td>\n",
       "      <td>32</td>\n",
       "      <td>3</td>\n",
       "      <td>0.000</td>\n",
       "      <td>0</td>\n",
       "      <td>0.000</td>\n",
       "      <td>0.000</td>\n",
       "      <td>0.000</td>\n",
       "      <td>on-time</td>\n",
       "    </tr>\n",
       "    <tr>\n",
       "      <th>2</th>\n",
       "      <td>Project</td>\n",
       "      <td>Task L</td>\n",
       "      <td>aaa</td>\n",
       "      <td>bbb</td>\n",
       "      <td>0.000</td>\n",
       "      <td>2022-03-10</td>\n",
       "      <td>2022-03-15</td>\n",
       "      <td>0</td>\n",
       "      <td>1</td>\n",
       "      <td>0</td>\n",
       "      <td>23</td>\n",
       "      <td>28</td>\n",
       "      <td>5</td>\n",
       "      <td>0.000</td>\n",
       "      <td>0</td>\n",
       "      <td>0.000</td>\n",
       "      <td>0.000</td>\n",
       "      <td>0.000</td>\n",
       "      <td>on-time</td>\n",
       "    </tr>\n",
       "    <tr>\n",
       "      <th>3</th>\n",
       "      <td>Project</td>\n",
       "      <td>Task K</td>\n",
       "      <td>aaa</td>\n",
       "      <td>bbb</td>\n",
       "      <td>0.000</td>\n",
       "      <td>2022-03-09</td>\n",
       "      <td>2022-03-15</td>\n",
       "      <td>1</td>\n",
       "      <td>0</td>\n",
       "      <td>0</td>\n",
       "      <td>22</td>\n",
       "      <td>28</td>\n",
       "      <td>6</td>\n",
       "      <td>0.000</td>\n",
       "      <td>0</td>\n",
       "      <td>0.000</td>\n",
       "      <td>0.000</td>\n",
       "      <td>0.000</td>\n",
       "      <td>on-time</td>\n",
       "    </tr>\n",
       "    <tr>\n",
       "      <th>4</th>\n",
       "      <td>Routine</td>\n",
       "      <td>Event (1)</td>\n",
       "      <td>aaa</td>\n",
       "      <td>bbb</td>\n",
       "      <td>0.000</td>\n",
       "      <td>2022-03-09</td>\n",
       "      <td>2022-03-09</td>\n",
       "      <td>1</td>\n",
       "      <td>1</td>\n",
       "      <td>0</td>\n",
       "      <td>22</td>\n",
       "      <td>22</td>\n",
       "      <td>0</td>\n",
       "      <td>0.000</td>\n",
       "      <td>0</td>\n",
       "      <td>0.000</td>\n",
       "      <td>0.000</td>\n",
       "      <td>0.000</td>\n",
       "      <td>event</td>\n",
       "    </tr>\n",
       "  </tbody>\n",
       "</table>\n",
       "</div>"
      ],
      "text/plain": [
       "      type       task description deliverables  completion      start  \\\n",
       "0  Project     Task M         aaa          bbb       0.000 2022-03-17   \n",
       "1  Project     Task N         aaa          bbb       0.000 2022-03-16   \n",
       "2  Project     Task L         aaa          bbb       0.000 2022-03-10   \n",
       "3  Project     Task K         aaa          bbb       0.000 2022-03-09   \n",
       "4  Routine  Event (1)         aaa          bbb       0.000 2022-03-09   \n",
       "\n",
       "         end  member1  member2  member3  start_num  end_num  duration  \\\n",
       "0 2022-03-19        0        0        1         30       32         2   \n",
       "1 2022-03-19        1        1        1         29       32         3   \n",
       "2 2022-03-15        0        1        0         23       28         5   \n",
       "3 2022-03-15        1        0        0         22       28         6   \n",
       "4 2022-03-09        1        1        0         22       22         0   \n",
       "\n",
       "   prog_day  exp_day  plan  diff_pct  diff_day   status  \n",
       "0     0.000        0 0.000     0.000     0.000  on-time  \n",
       "1     0.000        0 0.000     0.000     0.000  on-time  \n",
       "2     0.000        0 0.000     0.000     0.000  on-time  \n",
       "3     0.000        0 0.000     0.000     0.000  on-time  \n",
       "4     0.000        0 0.000     0.000     0.000    event  "
      ]
     },
     "execution_count": 6,
     "metadata": {},
     "output_type": "execute_result"
    }
   ],
   "source": [
    "X = create_schedule(df.copy(), ref_date)\n",
    "X = X.sort_values(by=\"start\",ascending=False).reset_index(drop=True)\n",
    "X.head(5)"
   ]
  },
  {
   "cell_type": "code",
   "execution_count": 7,
   "id": "58bc33e5",
   "metadata": {},
   "outputs": [
    {
     "data": {
      "image/png": "[encoded data removed]",
      "text/plain": [
       "<Figure size 784.8x518.4 with 1 Axes>"
      ]
     },
     "metadata": {
      "needs_background": "light"
     },
     "output_type": "display_data"
    }
   ],
   "source": [
    "ax = gantt_plot(X, ref_date=ref_date, holidays=holidays, show_delta=False)"
   ]
  },
  {
   "cell_type": "code",
   "execution_count": 8,
   "id": "ced3e510",
   "metadata": {},
   "outputs": [],
   "source": [
    "def interactive_gantt(df, ref_date, intv_day, holidays, show_delta):\n",
    "    X = create_schedule(df.copy(), ref_date)\n",
    "    X = X.sort_values(by=\"start\",ascending=False).reset_index(drop=True)\n",
    "    colors = [\"#1B9CFC\",\"#55E6C1\",\"#FC427B\",\"#82589F\",\"#FEA47F\"]\n",
    "    ax = gantt_plot(X, ref_date=ref_date, holidays=holidays,\n",
    "                    intv_day=intv_day, show_delta=show_delta, colors=colors)"
   ]
  },
  {
   "cell_type": "code",
   "execution_count": 10,
   "id": "a32231be",
   "metadata": {
    "scrolled": false
   },
   "outputs": [
    {
     "data": {
      "application/vnd.jupyter.widget-view+json": {
       "model_id": "25da80d1671343e4bcc8089b79d6dd7a",
       "version_major": 2,
       "version_minor": 0
      },
      "text/plain": [
       "interactive(children=(Dropdown(description='ref_date', options=(numpy.datetime64('2022-02-15'), numpy.datetime…"
      ]
     },
     "metadata": {},
     "output_type": "display_data"
    }
   ],
   "source": [
    "kwargs = dict(df=fixed(df), intv_day = [3,4,5,6,7],\n",
    "              ref_date=workingdays(\"2022-02-15\", \"2022-03-20\"), \n",
    "              show_delta=[False, True], holidays=fixed(holidays))\n",
    "ax = interact(interactive_gantt, **kwargs)"
   ]
  },
  {
   "cell_type": "code",
   "execution_count": null,
   "id": "0519fdba",
   "metadata": {},
   "outputs": [],
   "source": []
  }
 ],
 "metadata": {
  "kernelspec": {
   "display_name": "Python 3 (ipykernel)",
   "language": "python",
   "name": "python3"
  },
  "language_info": {
   "codemirror_mode": {
    "name": "ipython",
    "version": 3
   },
   "file_extension": ".py",
   "mimetype": "text/x-python",
   "name": "python",
   "nbconvert_exporter": "python",
   "pygments_lexer": "ipython3",
   "version": "3.9.7"
  }
 },
 "nbformat": 4,
 "nbformat_minor": 5
}
